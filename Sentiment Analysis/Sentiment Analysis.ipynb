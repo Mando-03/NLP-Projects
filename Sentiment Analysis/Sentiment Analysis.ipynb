{
 "cells": [
  {
   "cell_type": "markdown",
   "metadata": {},
   "source": [
    "<center><h1 style=\"font-size:35px; font-family: 'Times New Roman'; letter-spacing: 0.1em;\">Sentiment Analysis using BERT </h1></center>"
   ]
  },
  {
   "cell_type": "code",
   "execution_count": null,
   "metadata": {
    "execution": {
     "iopub.execute_input": "2025-03-01T13:23:41.517485Z",
     "iopub.status.busy": "2025-03-01T13:23:41.517121Z",
     "iopub.status.idle": "2025-03-01T13:23:47.576740Z",
     "shell.execute_reply": "2025-03-01T13:23:47.575778Z",
     "shell.execute_reply.started": "2025-03-01T13:23:41.517451Z"
    },
    "trusted": true
   },
   "outputs": [],
   "source": [
    "import re \n",
    "import os\n",
    "import numpy as np \n",
    "import pandas as pd\n",
    "import matplotlib.pyplot as plt \n",
    "import seaborn as sns\n",
    "import torch\n",
    "import string\n",
    "import emoji\n",
    "from transformers import BertTokenizer\n",
    "from transformers import BertForSequenceClassification, AdamW, logging\n",
    "from torch.utils.data import DataLoader, RandomSampler, SequentialSampler, TensorDataset, random_split\n",
    "from transformers import get_linear_schedule_with_warmup\n",
    "from sklearn.metrics import confusion_matrix, ConfusionMatrixDisplay, classification_report\n",
    "import warnings\n",
    "warnings.filterwarnings('ignore')\n",
    "logging.set_verbosity_error()"
   ]
  },
  {
   "cell_type": "code",
   "execution_count": 2,
   "metadata": {
    "_cell_guid": "b1076dfc-b9ad-4769-8c92-a6c4dae69d19",
    "_uuid": "8f2839f25d086af736a60e9eeb907d3b93b6e0e5",
    "execution": {
     "iopub.execute_input": "2025-03-01T13:23:47.579003Z",
     "iopub.status.busy": "2025-03-01T13:23:47.578434Z",
     "iopub.status.idle": "2025-03-01T13:23:47.639501Z",
     "shell.execute_reply": "2025-03-01T13:23:47.638551Z",
     "shell.execute_reply.started": "2025-03-01T13:23:47.578969Z"
    },
    "trusted": true
   },
   "outputs": [
    {
     "name": "stdout",
     "output_type": "stream",
     "text": [
      "There are 1 GPU(s) available.\n",
      "We will use the GPU: Tesla P100-PCIE-16GB\n"
     ]
    }
   ],
   "source": [
    "if torch.cuda.is_available():    \n",
    "    device = torch.device(\"cuda\")\n",
    "    print('There are %d GPU(s) available.' % torch.cuda.device_count())\n",
    "    print('We will use the GPU:', torch.cuda.get_device_name(0))\n",
    "else:\n",
    "    print('No GPU available, using the CPU instead.')\n",
    "    device = torch.device(\"cpu\")"
   ]
  },
  {
   "cell_type": "code",
   "execution_count": 3,
   "metadata": {
    "execution": {
     "iopub.execute_input": "2025-03-01T13:23:47.641009Z",
     "iopub.status.busy": "2025-03-01T13:23:47.640679Z",
     "iopub.status.idle": "2025-03-01T13:23:51.448393Z",
     "shell.execute_reply": "2025-03-01T13:23:51.447524Z",
     "shell.execute_reply.started": "2025-03-01T13:23:47.640981Z"
    },
    "trusted": true
   },
   "outputs": [
    {
     "name": "stdout",
     "output_type": "stream",
     "text": [
      "Number of training sentences: 1,600,000\n",
      "\n"
     ]
    },
    {
     "data": {
      "text/html": [
       "<div>\n",
       "<style scoped>\n",
       "    .dataframe tbody tr th:only-of-type {\n",
       "        vertical-align: middle;\n",
       "    }\n",
       "\n",
       "    .dataframe tbody tr th {\n",
       "        vertical-align: top;\n",
       "    }\n",
       "\n",
       "    .dataframe thead th {\n",
       "        text-align: right;\n",
       "    }\n",
       "</style>\n",
       "<table border=\"1\" class=\"dataframe\">\n",
       "  <thead>\n",
       "    <tr style=\"text-align: right;\">\n",
       "      <th></th>\n",
       "      <th>label</th>\n",
       "      <th>ids</th>\n",
       "      <th>data</th>\n",
       "      <th>flag</th>\n",
       "      <th>user</th>\n",
       "      <th>sentence</th>\n",
       "    </tr>\n",
       "  </thead>\n",
       "  <tbody>\n",
       "    <tr>\n",
       "      <th>1489515</th>\n",
       "      <td>4</td>\n",
       "      <td>2068706284</td>\n",
       "      <td>Sun Jun 07 14:33:09 PDT 2009</td>\n",
       "      <td>NO_QUERY</td>\n",
       "      <td>icantdobetter</td>\n",
       "      <td>@McFLYAddiction  I follow to @dougielovers</td>\n",
       "    </tr>\n",
       "    <tr>\n",
       "      <th>1090579</th>\n",
       "      <td>4</td>\n",
       "      <td>1969810984</td>\n",
       "      <td>Sat May 30 01:18:52 PDT 2009</td>\n",
       "      <td>NO_QUERY</td>\n",
       "      <td>camtarn</td>\n",
       "      <td>@anakiro *cheer!*</td>\n",
       "    </tr>\n",
       "    <tr>\n",
       "      <th>96302</th>\n",
       "      <td>0</td>\n",
       "      <td>1792557963</td>\n",
       "      <td>Wed May 13 23:30:09 PDT 2009</td>\n",
       "      <td>NO_QUERY</td>\n",
       "      <td>bobbyearle</td>\n",
       "      <td>Just had to kill a rat that was caught in a tr...</td>\n",
       "    </tr>\n",
       "    <tr>\n",
       "      <th>534610</th>\n",
       "      <td>0</td>\n",
       "      <td>2197598908</td>\n",
       "      <td>Tue Jun 16 14:49:09 PDT 2009</td>\n",
       "      <td>NO_QUERY</td>\n",
       "      <td>Kryslynn7785</td>\n",
       "      <td>the sun is gone</td>\n",
       "    </tr>\n",
       "    <tr>\n",
       "      <th>820710</th>\n",
       "      <td>4</td>\n",
       "      <td>1553803015</td>\n",
       "      <td>Sat Apr 18 15:15:13 PDT 2009</td>\n",
       "      <td>NO_QUERY</td>\n",
       "      <td>LAMBDangerZone</td>\n",
       "      <td>Woot! Im off! Cant wait to go home!!!!</td>\n",
       "    </tr>\n",
       "    <tr>\n",
       "      <th>1309258</th>\n",
       "      <td>4</td>\n",
       "      <td>2013017590</td>\n",
       "      <td>Tue Jun 02 21:44:48 PDT 2009</td>\n",
       "      <td>NO_QUERY</td>\n",
       "      <td>MalMarquis</td>\n",
       "      <td>is typing in the white box for Danielle!!</td>\n",
       "    </tr>\n",
       "    <tr>\n",
       "      <th>169371</th>\n",
       "      <td>0</td>\n",
       "      <td>1962560726</td>\n",
       "      <td>Fri May 29 11:14:10 PDT 2009</td>\n",
       "      <td>NO_QUERY</td>\n",
       "      <td>peacechicken</td>\n",
       "      <td>@eastcoaster1237 @funkydung  Doh! I'm an insid...</td>\n",
       "    </tr>\n",
       "    <tr>\n",
       "      <th>1477966</th>\n",
       "      <td>4</td>\n",
       "      <td>2066391753</td>\n",
       "      <td>Sun Jun 07 10:25:58 PDT 2009</td>\n",
       "      <td>NO_QUERY</td>\n",
       "      <td>softthistle</td>\n",
       "      <td>I Dare You To Watch This Whole Thing Without B...</td>\n",
       "    </tr>\n",
       "    <tr>\n",
       "      <th>1076489</th>\n",
       "      <td>4</td>\n",
       "      <td>1967453916</td>\n",
       "      <td>Fri May 29 19:36:33 PDT 2009</td>\n",
       "      <td>NO_QUERY</td>\n",
       "      <td>peachness</td>\n",
       "      <td>@TexTulip Thank you, Boo! I think I have it un...</td>\n",
       "    </tr>\n",
       "    <tr>\n",
       "      <th>1512492</th>\n",
       "      <td>4</td>\n",
       "      <td>2175234494</td>\n",
       "      <td>Mon Jun 15 00:26:10 PDT 2009</td>\n",
       "      <td>NO_QUERY</td>\n",
       "      <td>MaxandSam</td>\n",
       "      <td>@XIOMA123 no you are!!</td>\n",
       "    </tr>\n",
       "  </tbody>\n",
       "</table>\n",
       "</div>"
      ],
      "text/plain": [
       "         label         ids                          data      flag  \\\n",
       "1489515      4  2068706284  Sun Jun 07 14:33:09 PDT 2009  NO_QUERY   \n",
       "1090579      4  1969810984  Sat May 30 01:18:52 PDT 2009  NO_QUERY   \n",
       "96302        0  1792557963  Wed May 13 23:30:09 PDT 2009  NO_QUERY   \n",
       "534610       0  2197598908  Tue Jun 16 14:49:09 PDT 2009  NO_QUERY   \n",
       "820710       4  1553803015  Sat Apr 18 15:15:13 PDT 2009  NO_QUERY   \n",
       "1309258      4  2013017590  Tue Jun 02 21:44:48 PDT 2009  NO_QUERY   \n",
       "169371       0  1962560726  Fri May 29 11:14:10 PDT 2009  NO_QUERY   \n",
       "1477966      4  2066391753  Sun Jun 07 10:25:58 PDT 2009  NO_QUERY   \n",
       "1076489      4  1967453916  Fri May 29 19:36:33 PDT 2009  NO_QUERY   \n",
       "1512492      4  2175234494  Mon Jun 15 00:26:10 PDT 2009  NO_QUERY   \n",
       "\n",
       "                   user                                           sentence  \n",
       "1489515   icantdobetter         @McFLYAddiction  I follow to @dougielovers  \n",
       "1090579         camtarn                                 @anakiro *cheer!*   \n",
       "96302        bobbyearle  Just had to kill a rat that was caught in a tr...  \n",
       "534610     Kryslynn7785                                   the sun is gone   \n",
       "820710   LAMBDangerZone            Woot! Im off! Cant wait to go home!!!!   \n",
       "1309258      MalMarquis         is typing in the white box for Danielle!!   \n",
       "169371     peacechicken  @eastcoaster1237 @funkydung  Doh! I'm an insid...  \n",
       "1477966     softthistle  I Dare You To Watch This Whole Thing Without B...  \n",
       "1076489       peachness  @TexTulip Thank you, Boo! I think I have it un...  \n",
       "1512492       MaxandSam                            @XIOMA123 no you are!!   "
      ]
     },
     "execution_count": 3,
     "metadata": {},
     "output_type": "execute_result"
    }
   ],
   "source": [
    "csv_path = \"/kaggle/input/sentiment140/training.1600000.processed.noemoticon.csv\"\n",
    "df =  pd.read_csv(csv_path, encoding=\"ISO-8859-1\", header=None , names=['label', 'ids', 'data', 'flag' , 'user','sentence'])\n",
    "\n",
    "print('Number of training sentences: {:,}\\n'.format(df.shape[0]))\n",
    "df.sample(10)"
   ]
  },
  {
   "cell_type": "code",
   "execution_count": 4,
   "metadata": {
    "execution": {
     "iopub.execute_input": "2025-03-01T13:23:51.450732Z",
     "iopub.status.busy": "2025-03-01T13:23:51.450447Z",
     "iopub.status.idle": "2025-03-01T13:23:51.588063Z",
     "shell.execute_reply": "2025-03-01T13:23:51.587049Z",
     "shell.execute_reply.started": "2025-03-01T13:23:51.450705Z"
    },
    "trusted": true
   },
   "outputs": [
    {
     "data": {
      "text/html": [
       "<div>\n",
       "<style scoped>\n",
       "    .dataframe tbody tr th:only-of-type {\n",
       "        vertical-align: middle;\n",
       "    }\n",
       "\n",
       "    .dataframe tbody tr th {\n",
       "        vertical-align: top;\n",
       "    }\n",
       "\n",
       "    .dataframe thead th {\n",
       "        text-align: right;\n",
       "    }\n",
       "</style>\n",
       "<table border=\"1\" class=\"dataframe\">\n",
       "  <thead>\n",
       "    <tr style=\"text-align: right;\">\n",
       "      <th></th>\n",
       "      <th>label</th>\n",
       "      <th>sentence</th>\n",
       "    </tr>\n",
       "  </thead>\n",
       "  <tbody>\n",
       "    <tr>\n",
       "      <th>0</th>\n",
       "      <td>0</td>\n",
       "      <td>@switchfoot http://twitpic.com/2y1zl - Awww, t...</td>\n",
       "    </tr>\n",
       "    <tr>\n",
       "      <th>1</th>\n",
       "      <td>0</td>\n",
       "      <td>is upset that he can't update his Facebook by ...</td>\n",
       "    </tr>\n",
       "    <tr>\n",
       "      <th>2</th>\n",
       "      <td>0</td>\n",
       "      <td>@Kenichan I dived many times for the ball. Man...</td>\n",
       "    </tr>\n",
       "    <tr>\n",
       "      <th>3</th>\n",
       "      <td>0</td>\n",
       "      <td>my whole body feels itchy and like its on fire</td>\n",
       "    </tr>\n",
       "    <tr>\n",
       "      <th>4</th>\n",
       "      <td>0</td>\n",
       "      <td>@nationwideclass no, it's not behaving at all....</td>\n",
       "    </tr>\n",
       "    <tr>\n",
       "      <th>...</th>\n",
       "      <td>...</td>\n",
       "      <td>...</td>\n",
       "    </tr>\n",
       "    <tr>\n",
       "      <th>1599995</th>\n",
       "      <td>1</td>\n",
       "      <td>Just woke up. Having no school is the best fee...</td>\n",
       "    </tr>\n",
       "    <tr>\n",
       "      <th>1599996</th>\n",
       "      <td>1</td>\n",
       "      <td>TheWDB.com - Very cool to hear old Walt interv...</td>\n",
       "    </tr>\n",
       "    <tr>\n",
       "      <th>1599997</th>\n",
       "      <td>1</td>\n",
       "      <td>Are you ready for your MoJo Makeover? Ask me f...</td>\n",
       "    </tr>\n",
       "    <tr>\n",
       "      <th>1599998</th>\n",
       "      <td>1</td>\n",
       "      <td>Happy 38th Birthday to my boo of alll time!!! ...</td>\n",
       "    </tr>\n",
       "    <tr>\n",
       "      <th>1599999</th>\n",
       "      <td>1</td>\n",
       "      <td>happy #charitytuesday @theNSPCC @SparksCharity...</td>\n",
       "    </tr>\n",
       "  </tbody>\n",
       "</table>\n",
       "<p>1600000 rows × 2 columns</p>\n",
       "</div>"
      ],
      "text/plain": [
       "         label                                           sentence\n",
       "0            0  @switchfoot http://twitpic.com/2y1zl - Awww, t...\n",
       "1            0  is upset that he can't update his Facebook by ...\n",
       "2            0  @Kenichan I dived many times for the ball. Man...\n",
       "3            0    my whole body feels itchy and like its on fire \n",
       "4            0  @nationwideclass no, it's not behaving at all....\n",
       "...        ...                                                ...\n",
       "1599995      1  Just woke up. Having no school is the best fee...\n",
       "1599996      1  TheWDB.com - Very cool to hear old Walt interv...\n",
       "1599997      1  Are you ready for your MoJo Makeover? Ask me f...\n",
       "1599998      1  Happy 38th Birthday to my boo of alll time!!! ...\n",
       "1599999      1  happy #charitytuesday @theNSPCC @SparksCharity...\n",
       "\n",
       "[1600000 rows x 2 columns]"
      ]
     },
     "execution_count": 4,
     "metadata": {},
     "output_type": "execute_result"
    }
   ],
   "source": [
    "df = df[['label' ,'sentence']]\n",
    "df['label'] = df['label'].replace({4: 1} )\n",
    "df"
   ]
  },
  {
   "cell_type": "code",
   "execution_count": 5,
   "metadata": {
    "execution": {
     "iopub.execute_input": "2025-03-01T13:23:51.589579Z",
     "iopub.status.busy": "2025-03-01T13:23:51.589264Z",
     "iopub.status.idle": "2025-03-01T13:23:51.603718Z",
     "shell.execute_reply": "2025-03-01T13:23:51.602820Z",
     "shell.execute_reply.started": "2025-03-01T13:23:51.589550Z"
    },
    "trusted": true
   },
   "outputs": [
    {
     "name": "stdout",
     "output_type": "stream",
     "text": [
      "label\n",
      "0    800000\n",
      "1    800000\n",
      "Name: count, dtype: int64\n"
     ]
    }
   ],
   "source": [
    "label_counts = df['label'].value_counts()\n",
    "print(label_counts)"
   ]
  },
  {
   "cell_type": "code",
   "execution_count": null,
   "metadata": {
    "execution": {
     "iopub.execute_input": "2025-03-01T13:23:51.605571Z",
     "iopub.status.busy": "2025-03-01T13:23:51.604953Z",
     "iopub.status.idle": "2025-03-01T13:23:52.203088Z",
     "shell.execute_reply": "2025-03-01T13:23:52.202166Z",
     "shell.execute_reply.started": "2025-03-01T13:23:51.605520Z"
    },
    "trusted": true
   },
   "outputs": [
    {
     "name": "stdout",
     "output_type": "stream",
     "text": [
      "label\n",
      "1    440000\n",
      "0    440000\n",
      "Name: count, dtype: int64\n"
     ]
    }
   ],
   "source": [
    "df_label_0 = df[df['label'] == 0]  \n",
    "df_label_1 = df[df['label'] == 1]  \n",
    "\n",
    "# Randomly sample 440,000 rows for each label\n",
    "sample_size = 440000\n",
    "df_label_0_sampled = df_label_0.sample(n=sample_size, random_state=42)  \n",
    "df_label_1_sampled = df_label_1.sample(n=sample_size, random_state=42)  \n",
    "\n",
    "# Combine the sampled data back into a single DataFrame\n",
    "df = pd.concat([df_label_0_sampled, df_label_1_sampled])\n",
    "\n",
    "# Shuffle the combined DataFrame to ensure randomness\n",
    "df = df.sample(frac=1, random_state=42).reset_index(drop=True)\n",
    "print(df['label'].value_counts()) "
   ]
  },
  {
   "cell_type": "code",
   "execution_count": null,
   "metadata": {
    "execution": {
     "iopub.execute_input": "2025-03-01T13:23:52.205262Z",
     "iopub.status.busy": "2025-03-01T13:23:52.204680Z",
     "iopub.status.idle": "2025-03-01T13:25:03.285223Z",
     "shell.execute_reply": "2025-03-01T13:25:03.284233Z",
     "shell.execute_reply.started": "2025-03-01T13:23:52.205219Z"
    },
    "trusted": true
   },
   "outputs": [
    {
     "data": {
      "text/html": [
       "<div>\n",
       "<style scoped>\n",
       "    .dataframe tbody tr th:only-of-type {\n",
       "        vertical-align: middle;\n",
       "    }\n",
       "\n",
       "    .dataframe tbody tr th {\n",
       "        vertical-align: top;\n",
       "    }\n",
       "\n",
       "    .dataframe thead th {\n",
       "        text-align: right;\n",
       "    }\n",
       "</style>\n",
       "<table border=\"1\" class=\"dataframe\">\n",
       "  <thead>\n",
       "    <tr style=\"text-align: right;\">\n",
       "      <th></th>\n",
       "      <th>label</th>\n",
       "      <th>sentence</th>\n",
       "      <th>preprocessing_sentence</th>\n",
       "    </tr>\n",
       "  </thead>\n",
       "  <tbody>\n",
       "    <tr>\n",
       "      <th>0</th>\n",
       "      <td>1</td>\n",
       "      <td>http://twitpic.com/6hozr - This is the pic tha...</td>\n",
       "      <td>this is the pic that is on mollies phone that ...</td>\n",
       "    </tr>\n",
       "    <tr>\n",
       "      <th>1</th>\n",
       "      <td>1</td>\n",
       "      <td>repeating you. you. you. you. you.</td>\n",
       "      <td>repeating you you you you you</td>\n",
       "    </tr>\n",
       "    <tr>\n",
       "      <th>2</th>\n",
       "      <td>1</td>\n",
       "      <td>@domrout Hooray! Thank you very much! Your per...</td>\n",
       "      <td>hooray thank you very much your performance li...</td>\n",
       "    </tr>\n",
       "    <tr>\n",
       "      <th>3</th>\n",
       "      <td>1</td>\n",
       "      <td>@106andpark I wanna see Eminem and Brittany Sp...</td>\n",
       "      <td>i wanna see eminem and brittany spears im a go...</td>\n",
       "    </tr>\n",
       "    <tr>\n",
       "      <th>4</th>\n",
       "      <td>0</td>\n",
       "      <td>so, after all that fuss #digitalbritain is jus...</td>\n",
       "      <td>so after all that fuss digitalbritain is just ...</td>\n",
       "    </tr>\n",
       "  </tbody>\n",
       "</table>\n",
       "</div>"
      ],
      "text/plain": [
       "   label                                           sentence  \\\n",
       "0      1  http://twitpic.com/6hozr - This is the pic tha...   \n",
       "1      1             repeating you. you. you. you. you.       \n",
       "2      1  @domrout Hooray! Thank you very much! Your per...   \n",
       "3      1  @106andpark I wanna see Eminem and Brittany Sp...   \n",
       "4      0  so, after all that fuss #digitalbritain is jus...   \n",
       "\n",
       "                              preprocessing_sentence  \n",
       "0  this is the pic that is on mollies phone that ...  \n",
       "1                      repeating you you you you you  \n",
       "2  hooray thank you very much your performance li...  \n",
       "3  i wanna see eminem and brittany spears im a go...  \n",
       "4  so after all that fuss digitalbritain is just ...  "
      ]
     },
     "execution_count": 7,
     "metadata": {},
     "output_type": "execute_result"
    }
   ],
   "source": [
    "# Define all the patterns\n",
    "urlPattern        = r\"((http://)[^ ]*|(https://)[^ ]*|(www\\.)[^ ]*)\"\n",
    "userPattern       = '@[^\\s]+' # Matches mentions ( @username)\n",
    "hashtagPattern    = '#[^\\s]+' # Matches mentions ( #username)\n",
    "sequencePattern   = r\"(.)\\1\\1+\" # Matches 3 or more consecutive identical characters (loooove)\n",
    "seqReplacePattern = r\"\\1\\1\"   #  Replaces sequences of 3 or more identical characters with 2 characters (loooove → loove)\n",
    "\n",
    "# Combine all the preprocessing steps into one function\n",
    "def clean_tweet(tweet):\n",
    "    # Convert to lowercase\n",
    "    tweet = tweet.lower()\n",
    "    \n",
    "    # Replace all URLs with ''\n",
    "    tweet = re.sub(urlPattern, '', tweet)\n",
    "    \n",
    "    # Replace @USERNAME with ''\n",
    "    tweet = re.sub(userPattern, '', tweet)\n",
    "    \n",
    "    # Replace 3 or more consecutive letters by 2 letters\n",
    "    tweet = re.sub(sequencePattern, seqReplacePattern, tweet)\n",
    "    \n",
    "    # Adding space on either side of '/' to separate words  and/or → and / or)\n",
    "    tweet = re.sub(r'/', ' / ', tweet)\n",
    "    \n",
    "    # Clean emojis from text\n",
    "    tweet = emoji.replace_emoji(tweet, replace='')  # Use replace_emoji in newer versions\n",
    "    \n",
    "    tweet = tweet.replace('\\r', '').replace('\\n', ' ').replace('\\n', ' ').lower() # removes newline characters (\\r, \\n)\n",
    "    tweet = re.sub(r\"(?:\\@|https?\\://)\\S+\", \"\", tweet) # removes any remaining mentions or URLs.\n",
    "    tweet = re.sub(r'[^\\x00-\\x7f]', r'', tweet) # Removes non-ASCII characters\n",
    "    banned_list = string.punctuation + 'Ã' + '±' + 'ã' + '¼' + 'â' + '»' + '§'\n",
    "    table = str.maketrans('', '', banned_list)\n",
    "    tweet = tweet.translate(table)\n",
    "    \n",
    "    # Clean hashtags\n",
    "    tweet = \" \".join(word.strip() for word in re.split('#(?!(?:hashtag)\\b)[\\w-]+(?=(?:\\s+#[\\w-]+)*\\s*$)', tweet)) # Splits hashtags into individual words (e.g., #HelloWorld → Hello World)\n",
    "    tweet = \" \".join(word.strip() for word in re.split('#|_', tweet)) # Removes underscores (_) from hashtags.\n",
    "    \n",
    "    # Filter special characters such as & and $\n",
    "    tweet = ' '.join([word if ('$' not in word) and ('&' not in word) else '' for word in tweet.split(' ')])\n",
    "    \n",
    "    # Remove multiple spaces\n",
    "    tweet = re.sub(\"\\s\\s+\", \" \", tweet)\n",
    "    \n",
    "    return tweet.strip()\n",
    "\n",
    "df['preprocessing_sentence'] = df['sentence'].apply(clean_tweet)\n",
    "df.head()"
   ]
  },
  {
   "cell_type": "code",
   "execution_count": null,
   "metadata": {
    "execution": {
     "iopub.execute_input": "2025-03-01T13:25:03.287918Z",
     "iopub.status.busy": "2025-03-01T13:25:03.287584Z",
     "iopub.status.idle": "2025-03-01T13:25:04.541948Z",
     "shell.execute_reply": "2025-03-01T13:25:04.541093Z",
     "shell.execute_reply.started": "2025-03-01T13:25:03.287869Z"
    },
    "trusted": true
   },
   "outputs": [
    {
     "data": {
      "image/png": "[encoded data removed]",
      "text/plain": [
       "<Figure size 1500x500 with 1 Axes>"
      ]
     },
     "metadata": {},
     "output_type": "display_data"
    }
   ],
   "source": [
    "df['word_count'] = df['preprocessing_sentence'].apply(lambda x: len(str(x).split()))\n",
    "\n",
    "word_count_freq = df['word_count'].value_counts().sort_index()\n",
    "plt.figure(figsize=(15, 5))\n",
    "sns.barplot(x=word_count_freq.index, y=word_count_freq.values, color='purple')\n",
    "plt.xlabel(\"Number of Words per Sentence\")\n",
    "plt.ylabel(\"Frequency\")\n",
    "plt.title(\"Bar Plot of Word Count Frequencies\")\n",
    "plt.show()"
   ]
  },
  {
   "cell_type": "code",
   "execution_count": null,
   "metadata": {
    "execution": {
     "iopub.execute_input": "2025-03-01T13:25:04.543269Z",
     "iopub.status.busy": "2025-03-01T13:25:04.542998Z",
     "iopub.status.idle": "2025-03-01T13:25:04.869403Z",
     "shell.execute_reply": "2025-03-01T13:25:04.868537Z",
     "shell.execute_reply.started": "2025-03-01T13:25:04.543243Z"
    },
    "trusted": true
   },
   "outputs": [
    {
     "data": {
      "text/html": [
       "<div>\n",
       "<style scoped>\n",
       "    .dataframe tbody tr th:only-of-type {\n",
       "        vertical-align: middle;\n",
       "    }\n",
       "\n",
       "    .dataframe tbody tr th {\n",
       "        vertical-align: top;\n",
       "    }\n",
       "\n",
       "    .dataframe thead th {\n",
       "        text-align: right;\n",
       "    }\n",
       "</style>\n",
       "<table border=\"1\" class=\"dataframe\">\n",
       "  <thead>\n",
       "    <tr style=\"text-align: right;\">\n",
       "      <th></th>\n",
       "      <th>label</th>\n",
       "      <th>sentence</th>\n",
       "      <th>preprocessing_sentence</th>\n",
       "      <th>word_count</th>\n",
       "    </tr>\n",
       "  </thead>\n",
       "  <tbody>\n",
       "    <tr>\n",
       "      <th>0</th>\n",
       "      <td>1</td>\n",
       "      <td>http://twitpic.com/6hozr - This is the pic tha...</td>\n",
       "      <td>this is the pic that is on mollies phone that ...</td>\n",
       "      <td>14</td>\n",
       "    </tr>\n",
       "    <tr>\n",
       "      <th>1</th>\n",
       "      <td>1</td>\n",
       "      <td>repeating you. you. you. you. you.</td>\n",
       "      <td>repeating you you you you you</td>\n",
       "      <td>6</td>\n",
       "    </tr>\n",
       "    <tr>\n",
       "      <th>2</th>\n",
       "      <td>1</td>\n",
       "      <td>@domrout Hooray! Thank you very much! Your per...</td>\n",
       "      <td>hooray thank you very much your performance li...</td>\n",
       "      <td>12</td>\n",
       "    </tr>\n",
       "    <tr>\n",
       "      <th>3</th>\n",
       "      <td>1</td>\n",
       "      <td>@106andpark I wanna see Eminem and Brittany Sp...</td>\n",
       "      <td>i wanna see eminem and brittany spears im a go...</td>\n",
       "      <td>21</td>\n",
       "    </tr>\n",
       "    <tr>\n",
       "      <th>4</th>\n",
       "      <td>0</td>\n",
       "      <td>so, after all that fuss #digitalbritain is jus...</td>\n",
       "      <td>so after all that fuss digitalbritain is just ...</td>\n",
       "      <td>18</td>\n",
       "    </tr>\n",
       "  </tbody>\n",
       "</table>\n",
       "</div>"
      ],
      "text/plain": [
       "   label                                           sentence  \\\n",
       "0      1  http://twitpic.com/6hozr - This is the pic tha...   \n",
       "1      1             repeating you. you. you. you. you.       \n",
       "2      1  @domrout Hooray! Thank you very much! Your per...   \n",
       "3      1  @106andpark I wanna see Eminem and Brittany Sp...   \n",
       "4      0  so, after all that fuss #digitalbritain is jus...   \n",
       "\n",
       "                              preprocessing_sentence  word_count  \n",
       "0  this is the pic that is on mollies phone that ...          14  \n",
       "1                      repeating you you you you you           6  \n",
       "2  hooray thank you very much your performance li...          12  \n",
       "3  i wanna see eminem and brittany spears im a go...          21  \n",
       "4  so after all that fuss digitalbritain is just ...          18  "
      ]
     },
     "execution_count": 9,
     "metadata": {},
     "output_type": "execute_result"
    }
   ],
   "source": [
    "# Filter out sentences with fewer than 5 words\n",
    "df = df[df['word_count'] >= 5].reset_index(drop=True)\n",
    "df.head()"
   ]
  },
  {
   "cell_type": "code",
   "execution_count": null,
   "metadata": {
    "execution": {
     "iopub.execute_input": "2025-03-01T13:25:04.871117Z",
     "iopub.status.busy": "2025-03-01T13:25:04.870726Z",
     "iopub.status.idle": "2025-03-01T13:25:06.076597Z",
     "shell.execute_reply": "2025-03-01T13:25:06.075698Z",
     "shell.execute_reply.started": "2025-03-01T13:25:04.871078Z"
    },
    "trusted": true
   },
   "outputs": [
    {
     "data": {
      "image/png": "[encoded data removed]",
      "text/plain": [
       "<Figure size 1500x500 with 1 Axes>"
      ]
     },
     "metadata": {},
     "output_type": "display_data"
    }
   ],
   "source": [
    "df['word_count'] = df['preprocessing_sentence'].apply(lambda x: len(str(x).split()))\n",
    "word_count_freq = df['word_count'].value_counts().sort_index()\n",
    "\n",
    "plt.figure(figsize=(15, 5))\n",
    "sns.barplot(x=word_count_freq.index, y=word_count_freq.values, color='purple')\n",
    "plt.xlabel(\"Number of Words per Sentence\")\n",
    "plt.ylabel(\"Frequency\")\n",
    "plt.title(\"Bar Plot of Word Count Frequencies\")\n",
    "plt.show()"
   ]
  },
  {
   "cell_type": "code",
   "execution_count": null,
   "metadata": {
    "execution": {
     "iopub.execute_input": "2025-03-01T13:25:06.748738Z",
     "iopub.status.busy": "2025-03-01T13:25:06.748460Z",
     "iopub.status.idle": "2025-03-01T13:25:06.765813Z",
     "shell.execute_reply": "2025-03-01T13:25:06.764941Z",
     "shell.execute_reply.started": "2025-03-01T13:25:06.748711Z"
    },
    "trusted": true
   },
   "outputs": [
    {
     "name": "stdout",
     "output_type": "stream",
     "text": [
      "Number of unique values: 2\n",
      "Unique values: [1 0]\n",
      "Value Counts: label\n",
      "1    370000\n",
      "0    370000\n",
      "Name: count, dtype: int64\n"
     ]
    }
   ],
   "source": [
    "df_label_0 = df[df['label'] == 0]  \n",
    "df_label_1 = df[df['label'] == 1]  \n",
    "\n",
    "sample_size = 370000\n",
    "df_label_0_sampled = df_label_0.sample(n=sample_size, random_state=42)  \n",
    "df_label_1_sampled = df_label_1.sample(n=sample_size, random_state=42)  \n",
    "\n",
    "df = pd.concat([df_label_0_sampled, df_label_1_sampled])\n",
    "\n",
    "df = df.sample(frac=1, random_state=42).reset_index(drop=True)\n",
    "\n",
    "print(df['label'].value_counts()) \n",
    "\n",
    "print(\"Number of unique values:\", df['label'].nunique())\n",
    "print(\"Unique values:\", df['label'].unique())\n",
    "print(\"Value Counts:\", df['label'].value_counts() )"
   ]
  },
  {
   "cell_type": "code",
   "execution_count": 13,
   "metadata": {
    "execution": {
     "iopub.execute_input": "2025-03-01T13:25:06.767072Z",
     "iopub.status.busy": "2025-03-01T13:25:06.766764Z",
     "iopub.status.idle": "2025-03-01T13:25:06.771544Z",
     "shell.execute_reply": "2025-03-01T13:25:06.770639Z",
     "shell.execute_reply.started": "2025-03-01T13:25:06.767046Z"
    },
    "trusted": true
   },
   "outputs": [],
   "source": [
    "sentences = df.preprocessing_sentence.values\n",
    "labels = df.label.values"
   ]
  },
  {
   "cell_type": "code",
   "execution_count": null,
   "metadata": {
    "execution": {
     "iopub.execute_input": "2025-03-01T13:25:17.385607Z",
     "iopub.status.busy": "2025-03-01T13:25:17.385276Z",
     "iopub.status.idle": "2025-03-01T13:25:17.583982Z",
     "shell.execute_reply": "2025-03-01T13:25:17.583247Z",
     "shell.execute_reply.started": "2025-03-01T13:25:17.385578Z"
    },
    "trusted": true
   },
   "outputs": [
    {
     "name": "stdout",
     "output_type": "stream",
     "text": [
      "Loading BERT tokenizer...\n"
     ]
    }
   ],
   "source": [
    "# Load the BERT tokenizer.\n",
    "print('Loading BERT tokenizer...')\n",
    "tokenizer = BertTokenizer.from_pretrained('bert-base-uncased', do_lower_case=True)"
   ]
  },
  {
   "cell_type": "code",
   "execution_count": null,
   "metadata": {
    "execution": {
     "iopub.execute_input": "2025-03-01T13:25:17.585261Z",
     "iopub.status.busy": "2025-03-01T13:25:17.584995Z",
     "iopub.status.idle": "2025-03-01T13:25:17.591585Z",
     "shell.execute_reply": "2025-03-01T13:25:17.590717Z",
     "shell.execute_reply.started": "2025-03-01T13:25:17.585235Z"
    },
    "trusted": true
   },
   "outputs": [
    {
     "name": "stdout",
     "output_type": "stream",
     "text": [
      " Original:  just woke up yawn so warm todayi can wear shorts\n",
      "Tokenized:  ['just', 'woke', 'up', 'ya', '##wn', 'so', 'warm', 'today', '##i', 'can', 'wear', 'shorts']\n",
      "Token IDs:  [2074, 8271, 2039, 8038, 7962, 2061, 4010, 2651, 2072, 2064, 4929, 9132]\n"
     ]
    }
   ],
   "source": [
    "print(' Original: ', sentences[0])\n",
    "\n",
    "# Print the sentence split into tokens.\n",
    "print('Tokenized: ', tokenizer.tokenize(sentences[0]))\n",
    "\n",
    "# Print the sentence mapped to token ids.\n",
    "print('Token IDs: ', tokenizer.convert_tokens_to_ids(tokenizer.tokenize(sentences[0])))"
   ]
  },
  {
   "cell_type": "code",
   "execution_count": null,
   "metadata": {
    "execution": {
     "iopub.execute_input": "2025-03-01T13:25:29.134302Z",
     "iopub.status.busy": "2025-03-01T13:25:29.133703Z",
     "iopub.status.idle": "2025-03-01T13:30:32.934041Z",
     "shell.execute_reply": "2025-03-01T13:30:32.933079Z",
     "shell.execute_reply.started": "2025-03-01T13:25:29.134267Z"
    },
    "trusted": true
   },
   "outputs": [
    {
     "name": "stdout",
     "output_type": "stream",
     "text": [
      "Original:  just woke up yawn so warm todayi can wear shorts\n",
      "Token IDs: tensor([ 101, 2074, 8271, 2039, 8038, 7962, 2061, 4010, 2651, 2072, 2064, 4929,\n",
      "        9132,  102,    0,    0,    0,    0,    0,    0,    0,    0,    0,    0,\n",
      "           0,    0,    0,    0,    0,    0,    0,    0,    0,    0,    0,    0,\n",
      "           0,    0,    0,    0,    0,    0,    0,    0,    0,    0,    0,    0,\n",
      "           0,    0,    0,    0,    0,    0,    0,    0,    0,    0,    0,    0,\n",
      "           0,    0,    0,    0])\n"
     ]
    }
   ],
   "source": [
    "input_ids = []\n",
    "attention_masks = []\n",
    "\n",
    "for sent in sentences:\n",
    "\n",
    "    encoded_dict = tokenizer.encode_plus(\n",
    "                        sent,                      # Sentence to encode.\n",
    "                        add_special_tokens = True, # Add '[CLS]' and '[SEP]'\n",
    "                        max_length = 64,           # Pad & truncate all sentences.\n",
    "                        pad_to_max_length = True,\n",
    "                        truncation=True,\n",
    "                        return_attention_mask = True,   # Construct attn. masks.\n",
    "                        return_tensors = 'pt',     # Return pytorch tensors.\n",
    "                   )\n",
    "    \n",
    "    input_ids.append(encoded_dict['input_ids'])\n",
    "    attention_masks.append(encoded_dict['attention_mask'])\n",
    "\n",
    "# lists of input_ids and attention_masks are concatenated into PyTorch tensors using torch.cat\n",
    "input_ids = torch.cat(input_ids, dim=0)\n",
    "attention_masks = torch.cat(attention_masks, dim=0) # dim=0 ensures that the tensors are concatenated along the batch dimension.\n",
    "labels = torch.tensor(labels)\n",
    "\n",
    "# Print sentence 0, now as a list of IDs.\n",
    "print('Original: ', sentences[0])\n",
    "print('Token IDs:', input_ids[0])"
   ]
  },
  {
   "cell_type": "code",
   "execution_count": null,
   "metadata": {
    "execution": {
     "iopub.execute_input": "2025-03-01T13:30:32.935869Z",
     "iopub.status.busy": "2025-03-01T13:30:32.935580Z",
     "iopub.status.idle": "2025-03-01T13:30:32.986833Z",
     "shell.execute_reply": "2025-03-01T13:30:32.985960Z",
     "shell.execute_reply.started": "2025-03-01T13:30:32.935842Z"
    },
    "trusted": true
   },
   "outputs": [
    {
     "name": "stdout",
     "output_type": "stream",
     "text": [
      "666,000 training samples\n",
      "51,800 validation samples\n",
      "22,200 test samples\n"
     ]
    }
   ],
   "source": [
    "dataset = TensorDataset(input_ids, attention_masks, labels)\n",
    "\n",
    "train_size = int(0.9 * len(dataset)) \n",
    "val_size = int(0.07 * len(dataset))    \n",
    "test_size = len(dataset) - train_size - val_size  \n",
    "train_dataset, val_dataset, test_dataset = random_split(dataset, [train_size, val_size, test_size])\n",
    "\n",
    "print(f'{train_size:,} training samples')\n",
    "print(f'{val_size:,} validation samples')\n",
    "print(f'{test_size:,} test samples')"
   ]
  },
  {
   "cell_type": "markdown",
   "metadata": {},
   "source": [
    "### **What is bert-base-uncased ?**\n",
    "\n",
    "**1- BERT Variant: This is the base version of BERT with 12 layers, 768 hidden units, and 110 million parameters.**\n",
    "\n",
    "**2- Uncased: The model is case-insensitive, meaning it treats uppercase and lowercase letters as the same (e.g., \"Hello\" and \"hello\" are treated identically).**\n",
    "\n",
    "### **Why choose bert-base-uncased ?**\n",
    "\n",
    "**Efficiency: Smaller than bert-large (24 layers, 1024 hidden units), making it faster and more memory-efficient.**\n",
    "\n",
    "**Generalization: Works well for most NLP tasks, including sentiment analysis.**\n",
    "\n",
    "**Pre-trained on Lowercase Text: Ideal for tasks where case sensitivity is not important (e.g., sentiment analysis of social media text).**"
   ]
  },
  {
   "cell_type": "code",
   "execution_count": null,
   "metadata": {
    "execution": {
     "iopub.execute_input": "2025-03-01T13:30:32.995859Z",
     "iopub.status.busy": "2025-03-01T13:30:32.995557Z",
     "iopub.status.idle": "2025-03-01T13:30:34.037982Z",
     "shell.execute_reply": "2025-03-01T13:30:34.036952Z",
     "shell.execute_reply.started": "2025-03-01T13:30:32.995828Z"
    },
    "trusted": true
   },
   "outputs": [
    {
     "data": {
      "text/plain": [
       "BertForSequenceClassification(\n",
       "  (bert): BertModel(\n",
       "    (embeddings): BertEmbeddings(\n",
       "      (word_embeddings): Embedding(30522, 768, padding_idx=0)\n",
       "      (position_embeddings): Embedding(512, 768)\n",
       "      (token_type_embeddings): Embedding(2, 768)\n",
       "      (LayerNorm): LayerNorm((768,), eps=1e-12, elementwise_affine=True)\n",
       "      (dropout): Dropout(p=0.1, inplace=False)\n",
       "    )\n",
       "    (encoder): BertEncoder(\n",
       "      (layer): ModuleList(\n",
       "        (0-11): 12 x BertLayer(\n",
       "          (attention): BertAttention(\n",
       "            (self): BertSdpaSelfAttention(\n",
       "              (query): Linear(in_features=768, out_features=768, bias=True)\n",
       "              (key): Linear(in_features=768, out_features=768, bias=True)\n",
       "              (value): Linear(in_features=768, out_features=768, bias=True)\n",
       "              (dropout): Dropout(p=0.1, inplace=False)\n",
       "            )\n",
       "            (output): BertSelfOutput(\n",
       "              (dense): Linear(in_features=768, out_features=768, bias=True)\n",
       "              (LayerNorm): LayerNorm((768,), eps=1e-12, elementwise_affine=True)\n",
       "              (dropout): Dropout(p=0.1, inplace=False)\n",
       "            )\n",
       "          )\n",
       "          (intermediate): BertIntermediate(\n",
       "            (dense): Linear(in_features=768, out_features=3072, bias=True)\n",
       "            (intermediate_act_fn): GELUActivation()\n",
       "          )\n",
       "          (output): BertOutput(\n",
       "            (dense): Linear(in_features=3072, out_features=768, bias=True)\n",
       "            (LayerNorm): LayerNorm((768,), eps=1e-12, elementwise_affine=True)\n",
       "            (dropout): Dropout(p=0.1, inplace=False)\n",
       "          )\n",
       "        )\n",
       "      )\n",
       "    )\n",
       "    (pooler): BertPooler(\n",
       "      (dense): Linear(in_features=768, out_features=768, bias=True)\n",
       "      (activation): Tanh()\n",
       "    )\n",
       "  )\n",
       "  (dropout): Dropout(p=0.1, inplace=False)\n",
       "  (classifier): Linear(in_features=768, out_features=2, bias=True)\n",
       ")"
      ]
     },
     "execution_count": 22,
     "metadata": {},
     "output_type": "execute_result"
    }
   ],
   "source": [
    "batch_size = 128\n",
    "\n",
    "\n",
    "train_dataloader = DataLoader(\n",
    "            train_dataset,\n",
    "            sampler = RandomSampler(train_dataset),\n",
    "            batch_size = batch_size )\n",
    "\n",
    "\n",
    "validation_dataloader = DataLoader(\n",
    "            val_dataset,\n",
    "            sampler = SequentialSampler(val_dataset), \n",
    "            batch_size = batch_size )\n",
    "\n",
    "test_dataloader = DataLoader(\n",
    "    test_dataset, \n",
    "    sampler=SequentialSampler(test_dataset), \n",
    "    batch_size=batch_size )\n",
    "\n",
    "model = BertForSequenceClassification.from_pretrained(\n",
    "    \"bert-base-uncased\",\n",
    "    num_labels = 2, \n",
    "    output_attentions = False, \n",
    "    output_hidden_states = False,)\n",
    "\n",
    "model.cuda()"
   ]
  },
  {
   "cell_type": "code",
   "execution_count": null,
   "metadata": {
    "execution": {
     "iopub.execute_input": "2025-03-01T13:30:34.040407Z",
     "iopub.status.busy": "2025-03-01T13:30:34.039356Z",
     "iopub.status.idle": "2025-03-01T13:30:34.269136Z",
     "shell.execute_reply": "2025-03-01T13:30:34.268170Z",
     "shell.execute_reply.started": "2025-03-01T13:30:34.040363Z"
    },
    "trusted": true
   },
   "outputs": [],
   "source": [
    "optimizer = AdamW(model.parameters(), lr = 2e-5, eps = 1e-8 ) # eps=1e-8 A small value to prevent division by zero in the optimizer.\n",
    "\n",
    "epochs = 3\n",
    "total_steps = len(train_dataloader) * epochs\n",
    "\n",
    "# Create the learning rate scheduler to Adjust the learning rate during training to improve convergence and avoid overshooting the optimal solution.\n",
    "scheduler = get_linear_schedule_with_warmup(optimizer, num_warmup_steps = 0, num_training_steps = total_steps)"
   ]
  },
  {
   "cell_type": "code",
   "execution_count": null,
   "metadata": {
    "execution": {
     "iopub.execute_input": "2025-03-01T13:30:34.271372Z",
     "iopub.status.busy": "2025-03-01T13:30:34.270702Z",
     "iopub.status.idle": "2025-03-01T13:30:34.282445Z",
     "shell.execute_reply": "2025-03-01T13:30:34.281592Z",
     "shell.execute_reply.started": "2025-03-01T13:30:34.271326Z"
    },
    "trusted": true
   },
   "outputs": [],
   "source": [
    "def flat_accuracy(preds, labels):\n",
    "    pred_flat = np.argmax(preds, axis=1).flatten()\n",
    "    labels_flat = labels.flatten() # Flattens the predictions and labels into 1D arrays.\n",
    "    return np.sum(pred_flat == labels_flat) / len(labels_flat)\n",
    "\n",
    "def train_epoch(model, train_dataloader, optimizer, scheduler, device):\n",
    "\n",
    "    model.train()\n",
    "    total_train_loss = 0\n",
    "\n",
    "    for step, batch in enumerate(train_dataloader):\n",
    "        b_input_ids = batch[0].to(device)\n",
    "        b_input_mask = batch[1].to(device)\n",
    "        b_labels = batch[2].to(device)\n",
    "\n",
    "\n",
    "        model.zero_grad()\n",
    "\n",
    "        # forward pass\n",
    "        result = model(b_input_ids, \n",
    "                       token_type_ids=None, \n",
    "                       attention_mask=b_input_mask, \n",
    "                       labels=b_labels,\n",
    "                       return_dict=True)\n",
    "\n",
    "        loss = result.loss\n",
    "        logits = result.logits\n",
    "\n",
    "        total_train_loss += loss.item()\n",
    "\n",
    "        #  backward pass \n",
    "        loss.backward()\n",
    "\n",
    "        torch.nn.utils.clip_grad_norm_(model.parameters(), 1.0)\n",
    "\n",
    "        optimizer.step()\n",
    "        scheduler.step()\n",
    "        \n",
    "        #  Print the loss every 1000 batches.\n",
    "        if (step + 1) % 1000 == 0:\n",
    "            print(f\"Batch {step + 1}/{len(train_dataloader)}: Loss = {loss.item():.4f}\")\n",
    "\n",
    "    avg_train_loss = total_train_loss / len(train_dataloader)\n",
    "\n",
    "    return avg_train_loss\n",
    "\n",
    "def validate_epoch(model, validation_dataloader, device):\n",
    "    \n",
    "    # Set Model to Evaluation Mode\n",
    "    model.eval() \n",
    "\n",
    "    total_eval_accuracy = 0\n",
    "    total_eval_loss = 0\n",
    "\n",
    "\n",
    "    for batch in validation_dataloader:\n",
    "        b_input_ids = batch[0].to(device)\n",
    "        b_input_mask = batch[1].to(device)\n",
    "        b_labels = batch[2].to(device)\n",
    "        \n",
    "        # Perform a forward pass without computing gradients\n",
    "        with torch.no_grad():\n",
    "            result = model(b_input_ids, \n",
    "                           token_type_ids=None, \n",
    "                           attention_mask=b_input_mask,\n",
    "                           labels=b_labels,\n",
    "                           return_dict=True)\n",
    "\n",
    "        loss = result.loss\n",
    "        logits = result.logits\n",
    "\n",
    "        total_eval_loss += loss.item()\n",
    "\n",
    "        logits = logits.detach().cpu().numpy()\n",
    "        label_ids = b_labels.to('cpu').numpy()\n",
    "\n",
    "        total_eval_accuracy += flat_accuracy(logits, label_ids)\n",
    "\n",
    "    avg_val_accuracy = total_eval_accuracy / len(validation_dataloader)\n",
    "    avg_val_loss = total_eval_loss / len(validation_dataloader)\n",
    "    \n",
    "    return avg_val_loss, avg_val_accuracy\n",
    "\n",
    "\n",
    "def save_best_model(model, output_dir, best_val_loss, avg_val_loss):\n",
    "\n",
    "    if avg_val_loss < best_val_loss:\n",
    "        best_val_loss = avg_val_loss\n",
    "        if not os.path.exists(output_dir):\n",
    "            os.makedirs(output_dir)\n",
    "        print(f\"  New best validation loss: {best_val_loss:.2f}. Saving model...\")\n",
    "        # Save the model and tokenizer\n",
    "        model_to_save = model.module if hasattr(model, 'module') else model\n",
    "        model_to_save.save_pretrained(output_dir)\n",
    "        tokenizer.save_pretrained(output_dir) \n",
    "    return best_val_loss"
   ]
  },
  {
   "cell_type": "markdown",
   "metadata": {},
   "source": [
    "## Model Training"
   ]
  },
  {
   "cell_type": "code",
   "execution_count": null,
   "metadata": {
    "execution": {
     "iopub.execute_input": "2025-03-01T13:30:34.283918Z",
     "iopub.status.busy": "2025-03-01T13:30:34.283600Z",
     "iopub.status.idle": "2025-03-01T13:30:34.298778Z",
     "shell.execute_reply": "2025-03-01T13:30:34.298019Z",
     "shell.execute_reply.started": "2025-03-01T13:30:34.283872Z"
    },
    "trusted": true
   },
   "outputs": [],
   "source": [
    "def train_model(model, train_dataloader, validation_dataloader, optimizer, scheduler, epochs, device, output_dir):\n",
    "    training_stats = []\n",
    "    best_val_loss = float('inf')  # Initialize the best validation loss to infinity\n",
    "\n",
    "    for epoch_i in range(epochs):\n",
    "        print(f\"\\n======== Epoch {epoch_i + 1} / {epochs} ========\")\n",
    "        print(\"Training...\")\n",
    "\n",
    "        avg_train_loss = train_epoch(model, train_dataloader, optimizer, scheduler, device)\n",
    "        print(f\"\\n  Average training loss: {avg_train_loss:.2f}\")\n",
    "\n",
    "        print(\"\\nRunning Validation...\")\n",
    "        avg_val_loss, avg_val_accuracy = validate_epoch(model, validation_dataloader, device)\n",
    "        print(f\"  Accuracy: {avg_val_accuracy:.2f}\")\n",
    "        print(f\"  Validation Loss: {avg_val_loss:.2f}\")\n",
    "\n",
    "        # Record statistics for this epoch\n",
    "        training_stats.append({\n",
    "            'epoch': epoch_i + 1,\n",
    "            'Training Loss': avg_train_loss,\n",
    "            'Valid. Loss': avg_val_loss,\n",
    "            'Valid. Accur.': avg_val_accuracy,\n",
    "        })\n",
    "\n",
    "\n",
    "        best_val_loss = save_best_model(model, output_dir, best_val_loss, avg_val_loss)\n",
    "\n",
    "    print(\"\\nTraining complete!\")\n",
    "    return training_stats"
   ]
  },
  {
   "cell_type": "code",
   "execution_count": 27,
   "metadata": {
    "execution": {
     "iopub.execute_input": "2025-03-01T13:30:45.183052Z",
     "iopub.status.busy": "2025-03-01T13:30:45.182652Z",
     "iopub.status.idle": "2025-03-01T16:33:15.561814Z",
     "shell.execute_reply": "2025-03-01T16:33:15.560763Z",
     "shell.execute_reply.started": "2025-03-01T13:30:45.183017Z"
    },
    "trusted": true
   },
   "outputs": [
    {
     "name": "stdout",
     "output_type": "stream",
     "text": [
      "\n",
      "======== Epoch 1 / 3 ========\n",
      "Training...\n",
      "Batch 1000/5204: Loss = 0.4466\n",
      "Batch 2000/5204: Loss = 0.3423\n",
      "Batch 3000/5204: Loss = 0.4227\n",
      "Batch 4000/5204: Loss = 0.3350\n",
      "Batch 5000/5204: Loss = 0.3196\n",
      "\n",
      "  Average training loss: 0.37\n",
      "\n",
      "Running Validation...\n",
      "  Accuracy: 0.85\n",
      "  Validation Loss: 0.34\n",
      "  New best validation loss: 0.34. Saving model...\n",
      "\n",
      "======== Epoch 2 / 3 ========\n",
      "Training...\n",
      "Batch 1000/5204: Loss = 0.2247\n",
      "Batch 2000/5204: Loss = 0.1992\n",
      "Batch 3000/5204: Loss = 0.3517\n",
      "Batch 4000/5204: Loss = 0.3596\n",
      "Batch 5000/5204: Loss = 0.3253\n",
      "\n",
      "  Average training loss: 0.30\n",
      "\n",
      "Running Validation...\n",
      "  Accuracy: 0.85\n",
      "  Validation Loss: 0.34\n",
      "  New best validation loss: 0.34. Saving model...\n",
      "\n",
      "======== Epoch 3 / 3 ========\n",
      "Training...\n",
      "Batch 1000/5204: Loss = 0.2705\n",
      "Batch 2000/5204: Loss = 0.1634\n",
      "Batch 3000/5204: Loss = 0.3093\n",
      "Batch 4000/5204: Loss = 0.3055\n",
      "Batch 5000/5204: Loss = 0.2414\n",
      "\n",
      "  Average training loss: 0.26\n",
      "\n",
      "Running Validation...\n",
      "  Accuracy: 0.85\n",
      "  Validation Loss: 0.36\n",
      "\n",
      "Training complete!\n"
     ]
    }
   ],
   "source": [
    "output_dir = '/kaggle/working/best_model_save/'\n",
    "training_stats = train_model(model, train_dataloader, validation_dataloader, optimizer, scheduler, epochs, device, output_dir)"
   ]
  },
  {
   "cell_type": "markdown",
   "metadata": {},
   "source": [
    "## Evaluate on the test set\n"
   ]
  },
  {
   "cell_type": "code",
   "execution_count": null,
   "metadata": {
    "execution": {
     "execution_failed": "2025-03-01T18:25:20.142Z",
     "iopub.execute_input": "2025-03-01T16:33:15.564078Z",
     "iopub.status.busy": "2025-03-01T16:33:15.563767Z",
     "iopub.status.idle": "2025-03-01T16:33:15.571269Z"
    },
    "trusted": true
   },
   "outputs": [],
   "source": [
    "def predict_and_evaluate(model, test_dataloader, device):\n",
    "\n",
    "    model.eval()\n",
    "\n",
    "    total_test_loss = 0\n",
    "    total_test_accuracy = 0\n",
    "    predictions = []\n",
    "    true_labels = []\n",
    "\n",
    "\n",
    "    with torch.no_grad():\n",
    "        for batch in test_dataloader:\n",
    "            b_input_ids = batch[0].to(device)\n",
    "            b_input_mask = batch[1].to(device)\n",
    "            b_labels = batch[2].to(device)\n",
    "\n",
    "\n",
    "            outputs = model(b_input_ids, \n",
    "                            token_type_ids=None, \n",
    "                            attention_mask=b_input_mask,\n",
    "                            labels=b_labels,\n",
    "                            return_dict=True)\n",
    "\n",
    "            loss = outputs.loss\n",
    "            logits = outputs.logits\n",
    "\n",
    "            total_test_loss += loss.item()\n",
    "\n",
    "            logits = logits.detach().cpu().numpy()\n",
    "            label_ids = b_labels.to('cpu').numpy()\n",
    "\n",
    "\n",
    "            total_test_accuracy += flat_accuracy(logits, label_ids)\n",
    "\n",
    "\n",
    "            pred_flat = np.argmax(logits, axis=1).flatten()\n",
    "            predictions.extend(pred_flat)\n",
    "            true_labels.extend(label_ids.flatten())\n",
    "\n",
    "    # Calculate average loss and accuracy\n",
    "    avg_test_loss = total_test_loss / len(test_dataloader)\n",
    "    avg_test_accuracy = total_test_accuracy / len(test_dataloader)\n",
    "\n",
    "    return predictions, true_labels, avg_test_loss, avg_test_accuracy"
   ]
  },
  {
   "cell_type": "markdown",
   "metadata": {},
   "source": [
    "## Load Best Model "
   ]
  },
  {
   "cell_type": "code",
   "execution_count": null,
   "metadata": {
    "execution": {
     "execution_failed": "2025-03-01T18:25:20.142Z",
     "iopub.execute_input": "2025-03-01T16:33:15.579263Z",
     "iopub.status.busy": "2025-03-01T16:33:15.578997Z",
     "iopub.status.idle": "2025-03-01T16:33:15.846058Z"
    },
    "trusted": true
   },
   "outputs": [
    {
     "data": {
      "text/plain": [
       "BertForSequenceClassification(\n",
       "  (bert): BertModel(\n",
       "    (embeddings): BertEmbeddings(\n",
       "      (word_embeddings): Embedding(30522, 768, padding_idx=0)\n",
       "      (position_embeddings): Embedding(512, 768)\n",
       "      (token_type_embeddings): Embedding(2, 768)\n",
       "      (LayerNorm): LayerNorm((768,), eps=1e-12, elementwise_affine=True)\n",
       "      (dropout): Dropout(p=0.1, inplace=False)\n",
       "    )\n",
       "    (encoder): BertEncoder(\n",
       "      (layer): ModuleList(\n",
       "        (0-11): 12 x BertLayer(\n",
       "          (attention): BertAttention(\n",
       "            (self): BertSdpaSelfAttention(\n",
       "              (query): Linear(in_features=768, out_features=768, bias=True)\n",
       "              (key): Linear(in_features=768, out_features=768, bias=True)\n",
       "              (value): Linear(in_features=768, out_features=768, bias=True)\n",
       "              (dropout): Dropout(p=0.1, inplace=False)\n",
       "            )\n",
       "            (output): BertSelfOutput(\n",
       "              (dense): Linear(in_features=768, out_features=768, bias=True)\n",
       "              (LayerNorm): LayerNorm((768,), eps=1e-12, elementwise_affine=True)\n",
       "              (dropout): Dropout(p=0.1, inplace=False)\n",
       "            )\n",
       "          )\n",
       "          (intermediate): BertIntermediate(\n",
       "            (dense): Linear(in_features=768, out_features=3072, bias=True)\n",
       "            (intermediate_act_fn): GELUActivation()\n",
       "          )\n",
       "          (output): BertOutput(\n",
       "            (dense): Linear(in_features=3072, out_features=768, bias=True)\n",
       "            (LayerNorm): LayerNorm((768,), eps=1e-12, elementwise_affine=True)\n",
       "            (dropout): Dropout(p=0.1, inplace=False)\n",
       "          )\n",
       "        )\n",
       "      )\n",
       "    )\n",
       "    (pooler): BertPooler(\n",
       "      (dense): Linear(in_features=768, out_features=768, bias=True)\n",
       "      (activation): Tanh()\n",
       "    )\n",
       "  )\n",
       "  (dropout): Dropout(p=0.1, inplace=False)\n",
       "  (classifier): Linear(in_features=768, out_features=2, bias=True)\n",
       ")"
      ]
     },
     "execution_count": 29,
     "metadata": {},
     "output_type": "execute_result"
    }
   ],
   "source": [
    "my_model = BertForSequenceClassification.from_pretrained(output_dir)\n",
    "tokenizer = BertTokenizer.from_pretrained(output_dir)\n",
    "my_model.to(device)"
   ]
  },
  {
   "cell_type": "code",
   "execution_count": null,
   "metadata": {
    "execution": {
     "execution_failed": "2025-03-01T18:25:20.142Z",
     "iopub.execute_input": "2025-03-01T16:33:15.850136Z",
     "iopub.status.busy": "2025-03-01T16:33:15.849879Z",
     "iopub.status.idle": "2025-03-01T16:33:53.900989Z"
    },
    "trusted": true
   },
   "outputs": [
    {
     "name": "stdout",
     "output_type": "stream",
     "text": [
      "Test Accuracy: 0.86\n",
      "Test Loss: 0.33\n"
     ]
    }
   ],
   "source": [
    "# Evaluate on the test set\n",
    "predictions, true_labels, test_loss, test_accuracy = predict_and_evaluate(my_model, test_dataloader, device)\n",
    "\n",
    "print(f\"Test Accuracy: {test_accuracy:.2f}\")\n",
    "print(f\"Test Loss: {test_loss:.2f}\")"
   ]
  },
  {
   "cell_type": "code",
   "execution_count": null,
   "metadata": {
    "execution": {
     "execution_failed": "2025-03-01T18:25:20.142Z",
     "iopub.execute_input": "2025-03-01T16:33:53.905794Z",
     "iopub.status.busy": "2025-03-01T16:33:53.905406Z",
     "iopub.status.idle": "2025-03-01T16:33:54.197390Z"
    },
    "trusted": true
   },
   "outputs": [
    {
     "data": {
      "image/png": "[encoded data removed]",
      "text/plain": [
       "<Figure size 800x800 with 2 Axes>"
      ]
     },
     "metadata": {},
     "output_type": "display_data"
    },
    {
     "name": "stdout",
     "output_type": "stream",
     "text": [
      "Classification Report:\n",
      "\n",
      "              precision    recall  f1-score   support\n",
      "\n",
      "    Negative       0.85      0.87      0.86     11097\n",
      "    Positive       0.87      0.84      0.85     11103\n",
      "\n",
      "    accuracy                           0.86     22200\n",
      "   macro avg       0.86      0.86      0.86     22200\n",
      "weighted avg       0.86      0.86      0.86     22200\n",
      "\n"
     ]
    }
   ],
   "source": [
    "def plot_confusion_matrix(predictions, true_labels, class_names):\n",
    "\n",
    "    cm = confusion_matrix(true_labels, predictions)\n",
    "    \n",
    "    disp = ConfusionMatrixDisplay(confusion_matrix=cm, display_labels=class_names)\n",
    "    \n",
    "    # Plot the confusion matrix\n",
    "    fig, ax = plt.subplots(figsize=(8, 8))\n",
    "    disp.plot(cmap='Blues', ax=ax, values_format='d')  # 'd' for displaying raw counts\n",
    "    plt.title(\"Confusion Matrix (Raw Counts)\")\n",
    "    plt.show()\n",
    "\n",
    "    report = classification_report(true_labels, predictions, target_names=class_names)\n",
    "    print(\"Classification Report:\\n\")\n",
    "    print(report)\n",
    "\n",
    "class_names = ['Negative', 'Positive']  \n",
    "\n",
    "plot_confusion_matrix(predictions, true_labels, class_names)\n"
   ]
  },
  {
   "cell_type": "code",
   "execution_count": null,
   "metadata": {
    "execution": {
     "execution_failed": "2025-03-01T18:25:20.143Z",
     "iopub.execute_input": "2025-03-01T16:33:54.201191Z",
     "iopub.status.busy": "2025-03-01T16:33:54.200889Z",
     "iopub.status.idle": "2025-03-01T16:33:54.206658Z"
    },
    "trusted": true
   },
   "outputs": [],
   "source": [
    "\n",
    "def process_and_predict_sentence(sentence, model, tokenizer, device='cuda'):\n",
    "\n",
    "    encoded_dict = tokenizer.encode_plus(\n",
    "        sentence,                     \n",
    "        add_special_tokens=True,     \n",
    "        max_length=64,                \n",
    "        pad_to_max_length=True,      \n",
    "        truncation=True,              \n",
    "        return_attention_mask=True,   \n",
    "        return_tensors='pt'           \n",
    "    )\n",
    "\n",
    "\n",
    "    input_ids = encoded_dict['input_ids'].to(device)\n",
    "    attention_mask = encoded_dict['attention_mask'].to(device)\n",
    "\n",
    "    model.eval()\n",
    "\n",
    "    with torch.no_grad():\n",
    "        outputs = model(input_ids, attention_mask=attention_mask)\n",
    "\n",
    "    logits = outputs.logits\n",
    "    probabilities = torch.softmax(logits, dim=1)\n",
    "\n",
    "    return probabilities\n"
   ]
  },
  {
   "cell_type": "markdown",
   "metadata": {
    "execution": {
     "iopub.execute_input": "2024-09-01T16:46:23.945862Z",
     "iopub.status.busy": "2024-09-01T16:46:23.945165Z",
     "iopub.status.idle": "2024-09-01T16:46:23.949796Z",
     "shell.execute_reply": "2024-09-01T16:46:23.948874Z",
     "shell.execute_reply.started": "2024-09-01T16:46:23.945822Z"
    }
   },
   "source": [
    "## Test The Model"
   ]
  },
  {
   "cell_type": "code",
   "execution_count": null,
   "metadata": {
    "execution": {
     "execution_failed": "2025-03-01T18:25:20.143Z",
     "iopub.execute_input": "2025-03-01T16:33:54.208220Z",
     "iopub.status.busy": "2025-03-01T16:33:54.207800Z",
     "iopub.status.idle": "2025-03-01T16:33:54.338447Z"
    },
    "trusted": true
   },
   "outputs": [
    {
     "data": {
      "text/plain": [
       "tensor([[0.0023, 0.9977]], device='cuda:0')"
      ]
     },
     "execution_count": 33,
     "metadata": {},
     "output_type": "execute_result"
    }
   ],
   "source": [
    "test_sentence = \"The movie was fantastic!\"\n",
    "prob = process_and_predict_sentence(test_sentence, model, tokenizer)\n",
    "prob"
   ]
  },
  {
   "cell_type": "code",
   "execution_count": null,
   "metadata": {},
   "outputs": [
    {
     "name": "stdout",
     "output_type": "stream",
     "text": [
      "{'Sentence': 'I hate the selfishness in you', 'label': 'negative'}\n",
      "{'Sentence': 'The movie was fantastic!', 'label': 'positive'}\n"
     ]
    }
   ],
   "source": [
    "def process_and_predict_sentences(sentences, model, tokenizer):\n",
    "    # Tokenize all sentences in the list\n",
    "    inputs = tokenizer(sentences, return_tensors=\"pt\", padding=True, truncation=True, max_length=128)\n",
    "    inputs = {key: val.to(device) for key, val in inputs.items()}  # Move inputs to the same device as the model\n",
    "\n",
    "    with torch.no_grad():\n",
    "        outputs = model(**inputs)\n",
    "        probs = torch.nn.functional.softmax(outputs.logits, dim=-1)\n",
    "\n",
    "    # Convert probabilities to a list of lists\n",
    "    probs = probs.cpu().numpy().tolist()  # Move to CPU and convert to list\n",
    "\n",
    "    # Determine the label for each sentence based on the highest probability\n",
    "    results = []\n",
    "    for i, sentence in enumerate(sentences):\n",
    "        label = \"negative\" if probs[i][0] > probs[i][1] else \"positive\"\n",
    "        results.append({\"Sentence\": sentence, \"label\": label})\n",
    "\n",
    "    return results\n",
    "\n",
    "test_sentences = [\n",
    "    \"I hate the selfishness in you\",\n",
    "    \"The movie was fantastic!\"]\n",
    "\n",
    "\n",
    "results = process_and_predict_sentences(test_sentences, model, tokenizer)\n",
    "\n",
    "for result in results:\n",
    "    print(result)"
   ]
  }
 ],
 "metadata": {
  "kaggle": {
   "accelerator": "gpu",
   "dataSources": [
    {
     "datasetId": 2477,
     "sourceId": 4140,
     "sourceType": "datasetVersion"
    }
   ],
   "dockerImageVersionId": 30762,
   "isGpuEnabled": true,
   "isInternetEnabled": true,
   "language": "python",
   "sourceType": "notebook"
  },
  "kernelspec": {
   "display_name": "all",
   "language": "python",
   "name": "python3"
  },
  "language_info": {
   "codemirror_mode": {
    "name": "ipython",
    "version": 3
   },
   "file_extension": ".py",
   "mimetype": "text/x-python",
   "name": "python",
   "nbconvert_exporter": "python",
   "pygments_lexer": "ipython3",
   "version": "3.9.20"
  }
 },
 "nbformat": 4,
 "nbformat_minor": 4
}
